{
 "cells": [
  {
   "cell_type": "code",
   "execution_count": null,
   "metadata": {},
   "outputs": [],
   "source": [
    "# 1. 一行代码实现1--100之和\n",
    "# 利用sum()函数求和"
   ]
  },
  {
   "cell_type": "code",
   "execution_count": null,
   "metadata": {},
   "outputs": [],
   "source": [
    "sum(range(1, 101))"
   ]
  },
  {
   "cell_type": "code",
   "execution_count": null,
   "metadata": {},
   "outputs": [],
   "source": [
    "# 2. 如何在一个函数内部修改全局变量\n",
    "# 函数内部global声明修改全局变量"
   ]
  },
  {
   "cell_type": "code",
   "execution_count": null,
   "metadata": {},
   "outputs": [],
   "source": [
    "a = 5\n",
    "def fn():\n",
    "    global a\n",
    "    a = 4\n",
    "fn()\n",
    "print(a)"
   ]
  },
  {
   "cell_type": "code",
   "execution_count": null,
   "metadata": {},
   "outputs": [],
   "source": [
    "# 3.列出5个Python标准库\n",
    "# os: 提供了不少于操作系统相关的函数\n",
    "# sys: 通常用于命令行参数\n",
    "# re: 正则匹配\n",
    "# math: 数学运算\n",
    "# datetime: 处理日期时间"
   ]
  },
  {
   "cell_type": "code",
   "execution_count": null,
   "metadata": {},
   "outputs": [],
   "source": [
    "# 4. 字典如何删除键和合并两个字典\n",
    "# del和update方法"
   ]
  },
  {
   "cell_type": "code",
   "execution_count": null,
   "metadata": {},
   "outputs": [],
   "source": [
    "dic = {\"name\":\"zs\", \"age\":18}\n",
    "del dic[\"name\"]\n",
    "dic"
   ]
  },
  {
   "cell_type": "code",
   "execution_count": null,
   "metadata": {},
   "outputs": [],
   "source": [
    "dic2 = {\"name\":\"ls\"}\n",
    "dic.update(dic2)\n",
    "dic"
   ]
  },
  {
   "cell_type": "code",
   "execution_count": null,
   "metadata": {},
   "outputs": [],
   "source": [
    "# 5.谈下Python的GIL\n",
    "# GIL是Python的局解释器锁，同一个进程中假如有多个线程运行，一个线程在运行Python程序的时候会霸占Python解释器（加了一把锁即GIL），使该进程内的\n",
    "# 其他线程无法运行，等该线程运行完后其他线程才能运行。如果线程运行过程中遇到耗时操作，则解释器锁解开，使其他线程运行。所以在多线程中，线程的\n",
    "# 运行仍然是有先后顺序的，并不是同时进行。\n",
    "# 多进程中因为每个进程都能被系统分配资源，相当于每个进程有了一个Python解释器，所以多进程可以实现多个进程的同时运行，缺点是进程系统资源开销大"
   ]
  },
  {
   "cell_type": "code",
   "execution_count": null,
   "metadata": {},
   "outputs": [],
   "source": [
    "# 6.Python实现列表去重的方法\n",
    "# 先通过集合去重，再转列表"
   ]
  },
  {
   "cell_type": "code",
   "execution_count": null,
   "metadata": {},
   "outputs": [],
   "source": [
    "l = [11, 12, 13, 12, 15, 16, 13]\n",
    "a = set(l)\n",
    "print(a)\n",
    "[x for x in a]"
   ]
  },
  {
   "cell_type": "code",
   "execution_count": null,
   "metadata": {},
   "outputs": [],
   "source": [
    "# 7. fun(*args, **kwargs)中的*args, **kwargs是什么意思？\n",
    "# *args和**kwargs主要用于函数定义。你可以将不定数量的参数传递给一个函数。这里的不定的意思是：预先并不知道，函数使用者会传递多少个参数给你所以\n",
    "# 在这个场景下使用这两个关键字。*args是用来发送一个非键值对的可变数量的参数列表给一个函数。"
   ]
  },
  {
   "cell_type": "code",
   "execution_count": null,
   "metadata": {},
   "outputs": [],
   "source": [
    "def demo(args_f, *args_v):\n",
    "    print(args_f)\n",
    "    for x in args_v:\n",
    "        print(x)\n",
    "demo('a', 'b', 'c', 'd')"
   ]
  },
  {
   "cell_type": "code",
   "execution_count": null,
   "metadata": {},
   "outputs": [],
   "source": [
    "# **kwargs允许你将不定长度的键值对作为参数传递给一个函数。如果你想要一个函数里处理带名字的参数，你应该使用**kwargs"
   ]
  },
  {
   "cell_type": "code",
   "execution_count": null,
   "metadata": {},
   "outputs": [],
   "source": [
    "def demo(**args_v):\n",
    "    for k, v in args_v.items():\n",
    "        print('{} : {}'.format(k, v))\n",
    "demo(name='njcx', age=18)"
   ]
  },
  {
   "cell_type": "code",
   "execution_count": null,
   "metadata": {},
   "outputs": [],
   "source": [
    "# 8.Python2和Python3的range(100)的区别\n",
    "# Python2返回列表，Python3返回迭代器，节约内存"
   ]
  },
  {
   "cell_type": "code",
   "execution_count": null,
   "metadata": {},
   "outputs": [],
   "source": [
    "# 9. 一句话解释什么样的语言能够用装饰器？\n",
    "# 函数可以作为参数传递的语言，可以使用装饰器"
   ]
  },
  {
   "cell_type": "code",
   "execution_count": null,
   "metadata": {},
   "outputs": [],
   "source": [
    "# 10. Python内建数据类型有哪些\n",
    "# 整型 -- int\n",
    "# 布尔型 -- bool\n",
    "# 列表 -- list\n",
    "# 元组 -- tuple\n",
    "# 字典 -- dict"
   ]
  },
  {
   "cell_type": "code",
   "execution_count": null,
   "metadata": {},
   "outputs": [],
   "source": [
    "# 11. 简述面向对象中__new__和__init__区别\n",
    "# __init__是初始化方法，创建对象后，就立刻被默认调用了，可接收参数，如图\n",
    "class Bike:\n",
    "    def __init__(self, newWheelNum, newColor):\n",
    "        self.wheelNum = newWheelNum\n",
    "        self.color = newColor\n",
    "    def move(self):\n",
    "        print(\"车会跑\")\n",
    "        \n",
    "BM = Bike(2, \"green\") # 创建对象\n",
    "print(\"车的颜色为：{}\".format(BM.color))\n",
    "print(\"车轮子数为：%d\" % BM.wheelNum)\n",
    "# 1. __new__至少要有一个参数cls，代表当前类，此参数在实例化时由Python解释器自动识别\n",
    "# 2. __new__必须要有返回值，返回实例化出来的对象，这点自己实现__new__时要特别注意，可以return父类(通过super(当前类名, cls))__new__出来的实例，\n",
    "#    或者直接是object的__new__出来的实例\n",
    "# 3. __init__有一个参数self，就是这个__new__返回的实例，__init__在__new__的基础上可以完成一些其他初始化的动作，__init__不需要返回值\n",
    "# 4. 如果__new__创建的是当前类的实例，会自动调用__init__函数，通过return语句里面调用的__new__函数的第一个参数是cls来保证当前类实例，如果是\n",
    "#    其他类的类名，那么实际创建返回的就是其他类的实例，其实就不会调用当前类的__init__函数，也不会调用其他类的__init__函数\n",
    "class A(object):\n",
    "    def __init__(self):\n",
    "        print(\"这是init方法\", self)\n",
    "    def __new__(cls):\n",
    "        print(\"这是cls的ID\", id(cls))\n",
    "        print(\"这是new方法\", object.__new__(cls))\n",
    "        return object.__new__(cls)\n",
    "    \n",
    "A()\n",
    "print(\"这是类A的ID\", id(A))"
   ]
  },
  {
   "cell_type": "code",
   "execution_count": null,
   "metadata": {},
   "outputs": [],
   "source": [
    "# 12.简述with方法打开处理文件帮我们做了什么\n",
    "f = open(\"./1.txt\", \"wb\")\n",
    "try:\n",
    "    f.write(\"hello world\")\n",
    "except:\n",
    "    pass\n",
    "finally:\n",
    "    f.close()\n",
    "# 打开文件在进行读写的时候可能会出现一些异常状况，如果按照常规的f.open()写法，我们需要try,except,finally，做异常判断，并且文件最终不管遇到\n",
    "# 什么情况，都要执行finally f.close()关闭文件，with方法帮我们实现了finally中的f.close()（当然还有其他自定义功能，有兴趣可以研究with方法源码）"
   ]
  },
  {
   "cell_type": "code",
   "execution_count": null,
   "metadata": {},
   "outputs": [],
   "source": [
    "# 13.列表[1, 2, 3, 4, 5]请使用map()函数输出[1, 4, 9, 16, 25],并使用列表推导式提取出大于10的数，最终输出[16, 25]\n",
    "# map()函数第一个参数是fun，第二个参数一般是list，第三个参数可以写list，也可以不写，根据需求"
   ]
  },
  {
   "cell_type": "code",
   "execution_count": null,
   "metadata": {},
   "outputs": [],
   "source": [
    "lis = [1, 2, 3, 4, 5]\n",
    "res = map(lambda x : x**2, lis)\n",
    "res = [i for i in res if i > 10]\n",
    "res"
   ]
  },
  {
   "cell_type": "code",
   "execution_count": null,
   "metadata": {},
   "outputs": [],
   "source": [
    "# 14. Python中生成随机整数、随机小数、0-1之间小数方法\n",
    "# 随机整数：random.randint(a, b)生成区间内的整数\n",
    "# 随机小数：习惯用numpy库，利用np.random.randn(5)生成5个随机小数\n",
    "# 0-1随机小数：random.random()括号中不传参"
   ]
  },
  {
   "cell_type": "code",
   "execution_count": null,
   "metadata": {},
   "outputs": [],
   "source": [
    "import random\n",
    "import numpy as np\n",
    "result = random.randint(10, 20)\n",
    "res = np.random.randn(5)\n",
    "ret = random.random()\n",
    "print(\"正整数{}\".format(result))\n",
    "print(\"5个随机小数{}\".format(res))\n",
    "print(\"0-1随机小数{}\".format(ret))"
   ]
  },
  {
   "cell_type": "code",
   "execution_count": null,
   "metadata": {},
   "outputs": [],
   "source": [
    "# 15.避免转义给字符串加哪个字母表示原始字符串\n",
    "# r表示需要原始字符串，不转义特殊字符"
   ]
  },
  {
   "cell_type": "code",
   "execution_count": null,
   "metadata": {},
   "outputs": [],
   "source": [
    "# 16. <div class=\"nam\">中国</div>,用正则匹配出标签里面的内容(\"中国\")，其中class的类名是不确定的"
   ]
  },
  {
   "cell_type": "code",
   "execution_count": null,
   "metadata": {},
   "outputs": [],
   "source": [
    "import re\n",
    "str = '<div class=\"nam\">中国</div>'\n",
    "res = re.findall(r'<div class=\".*\">(.*?)</div>', str)  # .代表可有可无  *代表任意字符满足类名变化  (.*?)提取文本\n",
    "print(res)"
   ]
  },
  {
   "cell_type": "code",
   "execution_count": null,
   "metadata": {},
   "outputs": [],
   "source": [
    "# 17.Python中断言方法举例\n",
    "# assert()方法，断言成功，则程序继续执行，断言失败，则程序报错"
   ]
  },
  {
   "cell_type": "code",
   "execution_count": null,
   "metadata": {},
   "outputs": [],
   "source": [
    "a = 3\n",
    "assert(a > 1)\n",
    "print(\"断言成功，程序继续向下执行\")\n",
    "\n",
    "b = 4\n",
    "assert(b > 7)\n",
    "print(\"断言失败，程序报错\")"
   ]
  },
  {
   "cell_type": "code",
   "execution_count": null,
   "metadata": {},
   "outputs": [],
   "source": [
    "# 18.数据表student有id，name，score，city字段，其中name中的名字可有重复，需要消除重复行，请写sql语句\n",
    "# select distinct name from student"
   ]
  },
  {
   "cell_type": "code",
   "execution_count": null,
   "metadata": {},
   "outputs": [],
   "source": [
    "# 19. 10个linux常用命令\n",
    "# ls pwd cd touch rm mkdir tree cp mv cat more grep echo"
   ]
  },
  {
   "cell_type": "code",
   "execution_count": null,
   "metadata": {},
   "outputs": [],
   "source": [
    "# 20. Python2和Python3 的区别？列举5个\n",
    "# 1.Python3使用print必须要以小括号包裹打印内容，比如print(\"hi\")\n",
    "#   Python2既可以使用带小括号的方式，也可以使用一个空格来分割打印内容，比如print \"hi\"\n",
    "# 2. Python2 range(1, 10)返回列表，Python3中返回迭代器，节约内存\n",
    "# 3. Python2中使用ascii编码，Python3中使用utf-8编码\n",
    "# 4. Python2中的Unicode表示字符串序列，str表示字节序列；Python3中str表示字符串序列，byte表示字节序列\n",
    "# 5. Python2中正常显示中文，引入coding声明，Python3中不需要\n",
    "# 6. Python2中是raw_input()函数，Python3中是input()函数"
   ]
  },
  {
   "cell_type": "code",
   "execution_count": null,
   "metadata": {},
   "outputs": [],
   "source": [
    "# 21.列出Python中可变数据类型和不可变数据类型，并简述原理\n",
    "# 不可变数据类型：数值型、字符串string和元组tuple\n",
    "# 不允许变量的值发生变化，如果改变了变量的值，相当于是新建了一个对象，而对于xi相同不允许变量的值发生变化，如果改变了变量的值，相当于是新建了\n",
    "# 一个对象，而对于相同的值的对象，在内存中则只有一个对象(一个地址)，如下图用id()方法可以打印对象的id\n",
    "a = 3\n",
    "b = 3\n",
    "print(id(a))\n",
    "print(id(b)) \n",
    "# 可变数据类型：列表list和字典dict\n",
    "# 允许变量的值发生变化，即如果对变量进行apped、+=等这种操作后，只是改变了变量的值，而不会新建一个对象，变量引用的对象的地址也不会变化，不过对于\n",
    "# 相同的值不同对象，在内存中则会存在不同的对象，即每个对象有自己的地址，相当于内存中对于同值的对象保存了多份，这里不存在引用计数，是实实在在的\n",
    "# 对象\n",
    "a = [1, 2]\n",
    "b = [1, 2]\n",
    "print(id(a))\n",
    "print(id(b))"
   ]
  },
  {
   "cell_type": "code",
   "execution_count": 2,
   "metadata": {},
   "outputs": [
    {
     "name": "stdout",
     "output_type": "stream",
     "text": [
      "adfjl\n"
     ]
    }
   ],
   "source": [
    "# 22. s = \"ajldjlajfdljfddd\",去重并从小到大排序输出\"adfjl\"\n",
    "# set去重，去重转成list，利用sort方法排序，reverse=False是从小到大排序\n",
    "s = \"ajldjlajfdljfddd\"\n",
    "s = set(s)\n",
    "s = list(s)\n",
    "s.sort(reverse=False)\n",
    "res = \"\".join(s)\n",
    "print(res)"
   ]
  },
  {
   "cell_type": "code",
   "execution_count": 3,
   "metadata": {},
   "outputs": [
    {
     "data": {
      "text/plain": [
       "12"
      ]
     },
     "execution_count": 3,
     "metadata": {},
     "output_type": "execute_result"
    }
   ],
   "source": [
    "# 23. 用lambda函数实现两个数相乘\n",
    "mul = lambda a, b : a*b\n",
    "mul(3, 4)"
   ]
  },
  {
   "cell_type": "code",
   "execution_count": 7,
   "metadata": {},
   "outputs": [
    {
     "name": "stdout",
     "output_type": "stream",
     "text": [
      "[('age', 18), ('city', '深圳'), ('name', 'zs'), ('tel', '1362626626')]\n"
     ]
    },
    {
     "data": {
      "text/plain": [
       "{'age': 18, 'city': '深圳', 'name': 'zs', 'tel': '1362626626'}"
      ]
     },
     "execution_count": 7,
     "metadata": {},
     "output_type": "execute_result"
    }
   ],
   "source": [
    "# 24. 字典根据键从小到大排序\n",
    "dic = {\"name\":\"zs\", \"age\":18, \"city\":\"深圳\", \"tel\":\"1362626626\"}\n",
    "l = sorted(dic.items(), key=lambda i : i[0], reverse=False)\n",
    "print(l)\n",
    "dict(l)"
   ]
  },
  {
   "cell_type": "code",
   "execution_count": 8,
   "metadata": {},
   "outputs": [
    {
     "name": "stdout",
     "output_type": "stream",
     "text": [
      "Counter({'l': 9, ';': 6, 'h': 6, 'f': 5, 'a': 4, 'j': 3, 'd': 3, 's': 2, 'k': 1, 'g': 1, 'b': 1})\n"
     ]
    }
   ],
   "source": [
    "# 25. 利用collections库的Counter方法统计字符串每个单词出现的次数\"kjalfj;ldsjafl;hdsllfdhg;lahfbl;hl;ahlf;h\"\n",
    "from collections import Counter\n",
    "a = \"kjalfj;ldsjafl;hdsllfdhg;lahfbl;hl;ahlf;h\"\n",
    "res = Counter(a)\n",
    "print(res)"
   ]
  },
  {
   "cell_type": "code",
   "execution_count": 9,
   "metadata": {},
   "outputs": [
    {
     "name": "stdout",
     "output_type": "stream",
     "text": [
      "['not', '404', 'found', '张三', '99', '深圳']\n",
      "['not', '404', 'found', '99']\n",
      "张三 深圳\n"
     ]
    }
   ],
   "source": [
    "# 26. 字符串a = \"not 404 found 张三 99 深圳\",每个词中间是空格，用正则过滤掉英文和数字，最终输出\"张三 深圳\"\n",
    "import re\n",
    "a = \"not 404 found 张三 99 深圳\"\n",
    "l = a.split(\" \")\n",
    "print(l)\n",
    "res = re.findall(\"\\d+|[a-zA-Z]+\", a)\n",
    "for i in res:\n",
    "    if i in l:\n",
    "        l.remove(i)\n",
    "new_str = \" \".join(l)\n",
    "print(res)\n",
    "print(new_str)"
   ]
  },
  {
   "cell_type": "code",
   "execution_count": 12,
   "metadata": {},
   "outputs": [
    {
     "name": "stdout",
     "output_type": "stream",
     "text": [
      "['not', '404', '50.56', 'found', '张三', '99', '深圳']\n",
      "['not', '404', '50.56', 'found', '99']\n",
      "张三 深圳\n"
     ]
    }
   ],
   "source": [
    "# 匹配小数的代码，健壮性有待确认\n",
    "import re\n",
    "a = \"not 404 50.56 found 张三 99 深圳\"\n",
    "l = a.split(\" \")\n",
    "print(l)\n",
    "res = re.findall('\\d+\\.?\\d*|[a-zA-Z]+', a)\n",
    "for i in res:\n",
    "    if i in l:\n",
    "        l.remove(i)\n",
    "new_str = \" \".join(l)\n",
    "print(res)\n",
    "print(new_str)"
   ]
  },
  {
   "cell_type": "code",
   "execution_count": 17,
   "metadata": {},
   "outputs": [
    {
     "name": "stdout",
     "output_type": "stream",
     "text": [
      "<filter object at 0x00000000052394E0>\n",
      "[1, 3, 5, 7, 9]\n"
     ]
    },
    {
     "data": {
      "text/plain": [
       "[1, 3, 5, 7, 9]"
      ]
     },
     "execution_count": 17,
     "metadata": {},
     "output_type": "execute_result"
    }
   ],
   "source": [
    "# 27.filter方法求出列表所有奇数并构造新列表, a = [1, 2, 3, 4, 5, 6, 7, 8, 9, 10]\n",
    "# filter()函数用于过滤序列，过滤掉不符合条件的元素，返回由符合条件元素组成的新列表。该函数接收两个参数，第一个为函数，第二个为序列，序列的每个\n",
    "# 元素作为参数传递给函数进行判断，然后返回True或False，最后将返回TRUE的元素放到新列表\n",
    "a = [1, 2, 3, 4, 5, 6, 7, 8, 9, 10]\n",
    "def fn(a):\n",
    "    return a % 2 == 1\n",
    "newlist = filter(fn, a);print(newlist)\n",
    "newlist = list(newlist)\n",
    "print(newlist)\n",
    "res = list(filter(lambda a : a % 2 == 1, a))\n",
    "res"
   ]
  },
  {
   "cell_type": "code",
   "execution_count": 18,
   "metadata": {},
   "outputs": [
    {
     "name": "stdout",
     "output_type": "stream",
     "text": [
      "[1, 3, 5, 7, 9]\n"
     ]
    }
   ],
   "source": [
    "# 28. 列表推导式求列表中所有奇数并构造新列表a = [1, 2, 3, 4, 5, 6, 7, 8, 9, 10]\n",
    "res = [i for i in a if i % 2 == 1]\n",
    "print(res)"
   ]
  },
  {
   "cell_type": "code",
   "execution_count": 19,
   "metadata": {},
   "outputs": [],
   "source": [
    "# 29. 正则re.compile作用\n",
    "# re.compile是将正则表达式编译成一个对象，加快速度，并重复使用"
   ]
  },
  {
   "cell_type": "code",
   "execution_count": 21,
   "metadata": {},
   "outputs": [
    {
     "name": "stdout",
     "output_type": "stream",
     "text": [
      "<class 'tuple'>\n",
      "<class 'int'>\n",
      "<class 'str'>\n"
     ]
    }
   ],
   "source": [
    "# 30. a = (1,) b = (1) c = (\"1\")分别是什么类型的数据？\n",
    "print(type((1,)))\n",
    "print(type((1)))\n",
    "print(type((\"1\")))"
   ]
  },
  {
   "cell_type": "code",
   "execution_count": 22,
   "metadata": {},
   "outputs": [
    {
     "name": "stdout",
     "output_type": "stream",
     "text": [
      "[1, 5, 7, 9, 2, 2, 6, 8]\n",
      "[1, 2, 2, 5, 6, 7, 8, 9]\n"
     ]
    }
   ],
   "source": [
    "# 31.两个列表[1, 5, 7, 9]和[2, 2, 6, 8]合并为[1, 2, 2, 3, 6, 7, 8, 9]\n",
    "# extend可以将一个列表中的元素逐一添加到列表中，区别于append整体添加\n",
    "l1 = [1, 5, 7, 9]\n",
    "l2 = [2, 2, 6, 8]\n",
    "l1.extend(l2)\n",
    "print(l1)\n",
    "l1.sort(reverse=False)\n",
    "print(l1)"
   ]
  },
  {
   "cell_type": "code",
   "execution_count": 23,
   "metadata": {},
   "outputs": [],
   "source": [
    "# 32.用Python删除文件和用linux命令删除文件方法\n",
    "# python: os.remove(文件名)\n",
    "# linux: rm 文件名"
   ]
  },
  {
   "cell_type": "code",
   "execution_count": 1,
   "metadata": {},
   "outputs": [
    {
     "name": "stdout",
     "output_type": "stream",
     "text": [
      "2019-03-30 19:24:46 星期：6\n"
     ]
    }
   ],
   "source": [
    "# 33.log日志中，我们需要用时间戳记录error.warning等的发生时间，请用datetime模块打印当前时间戳\"2018-04-01 11:38:54\"\n",
    "import datetime\n",
    "a = str(datetime.datetime.now().strftime(\"%Y-%m-%d %H:%M:%S\")) + \" 星期：\" + str(datetime.datetime.now().isoweekday())\n",
    "print(a)"
   ]
  },
  {
   "cell_type": "code",
   "execution_count": 2,
   "metadata": {},
   "outputs": [],
   "source": [
    "# 34.数据库优化查询方法\n",
    "# 外键、索引、联合查询、选择待定字段等"
   ]
  },
  {
   "cell_type": "code",
   "execution_count": 3,
   "metadata": {},
   "outputs": [],
   "source": [
    "# 35.请列出你会用的任意一种统计图(条形图、折线图等)绘制的开源库，第三方库也行\n",
    "# pychart、matplotlib"
   ]
  },
  {
   "cell_type": "code",
   "execution_count": 4,
   "metadata": {},
   "outputs": [
    {
     "name": "stdout",
     "output_type": "stream",
     "text": [
      "数字大于2了\n"
     ]
    }
   ],
   "source": [
    "# 36.写一段自定义异常代码\n",
    "# 自定义异常用raise抛出异常\n",
    "def fn():\n",
    "    try:\n",
    "        for i in range(5):\n",
    "            if i > 2:\n",
    "                raise Exception(\"数字大于2了\")\n",
    "    except Exception as ret:\n",
    "        print(ret)\n",
    "\n",
    "fn()"
   ]
  },
  {
   "cell_type": "code",
   "execution_count": 5,
   "metadata": {},
   "outputs": [
    {
     "name": "stdout",
     "output_type": "stream",
     "text": [
      "贪婪匹配 ['哈哈</a><a>呵呵']\n",
      "非贪婪匹配 ['哈哈', '呵呵']\n"
     ]
    }
   ],
   "source": [
    "# 37. 正则表达式中，(.*)和(.*?)匹配区别？\n",
    "#(.*)是贪婪匹配，会把满足正则的尽可能多的往后匹配\n",
    "#(.*?)是非贪婪匹配，会把满足正则的尽可能少的匹配\n",
    "import re\n",
    "s = \"<a>哈哈</a><a>呵呵</a>\"\n",
    "res1 = re.findall(\"<a>(.*)</a>\", s)\n",
    "print(\"贪婪匹配\", res1)\n",
    "res2 = re.findall(\"<a>(.*?)</a>\", s)\n",
    "print(\"非贪婪匹配\", res2)"
   ]
  },
  {
   "cell_type": "code",
   "execution_count": 6,
   "metadata": {},
   "outputs": [],
   "source": [
    "# 38. 简述Django的orm\n",
    "# ORM，全拼Object-Relation Mapping,意为对象-关系映射\n",
    "# 实现了数据模型与数据库的解耦，通过简单的配置就可以轻松更换时数据库，而不需要修改代码只需要面向对象编程，orm操作本质上会根据对接的数据库引擎，\n",
    "#翻译成对应的sql语句，所有使用Django开发的项目无需关心程序底层使用的是MySQL、Oracle、Sqlite...,如果数据库迁移，只需要更换Django的数据库引擎即可"
   ]
  },
  {
   "cell_type": "code",
   "execution_count": 8,
   "metadata": {},
   "outputs": [
    {
     "name": "stdout",
     "output_type": "stream",
     "text": [
      "[1, 2, 3, 4, 5, 6]\n",
      "[1, 2, 3, 4, 5, 6]\n"
     ]
    }
   ],
   "source": [
    "# 39. [[1, 2], [3, 4], [5, 6]]一行代码展开列表，得出[1, 2, 3, 4, 5, 6]\n",
    "a = [[1, 2], [3, 4], [5, 6]]\n",
    "\n",
    "x = [j for i in a for j in i]  # 列表推导式\n",
    "print(x)\n",
    "\n",
    "# 将列表转成numpy矩阵，通过numpy的flatten()方法\n",
    "import numpy as np\n",
    "b = np.array(a).flatten().tolist()\n",
    "print(b)"
   ]
  },
  {
   "cell_type": "code",
   "execution_count": 9,
   "metadata": {},
   "outputs": [
    {
     "name": "stdout",
     "output_type": "stream",
     "text": [
      "dabceabcf\n",
      "dabceabcf\n"
     ]
    }
   ],
   "source": [
    "# 40. x = \"abc\", y = \"def\", z = [\"d\", \"e\", \"f\"],分别求出x.join(y)和x.join(z)返回的结果\n",
    "# join()括号里面的是可迭代对象，x插入可迭代对象中间，形成字符串\n",
    "x = \"abc\"\n",
    "y = \"def\"\n",
    "z = [\"d\", \"e\", \"f\"]\n",
    "\n",
    "m = x.join(y)\n",
    "print(m)\n",
    "n = x.join(z)\n",
    "print(n)"
   ]
  },
  {
   "cell_type": "code",
   "execution_count": 10,
   "metadata": {},
   "outputs": [
    {
     "name": "stdout",
     "output_type": "stream",
     "text": [
      "100\n",
      "没有捕获到异常，则执行该语句\n",
      "100\n",
      "不管是否捕获到异常，都执行该句\n"
     ]
    }
   ],
   "source": [
    "# 41.举例说明异常模块中try except else finally的相关意义\n",
    "# try...except...else 没有捕获到异常，执行else语句\n",
    "# try...except...finally不管是否捕获到异常，都执行finally语句\n",
    "try:\n",
    "    num = 100\n",
    "    print(num)\n",
    "except NameError as errorMsg:\n",
    "    print(\"产生错误了：%s\" % errorMsg)\n",
    "else:\n",
    "    print(\"没有捕获到异常，则执行该语句\")\n",
    "    \n",
    "try:\n",
    "    num = 100\n",
    "    print(num)\n",
    "except NameError as errorMsg:\n",
    "    print(\"产生错误了：%s\" % errorMsg)\n",
    "finally:\n",
    "    print(\"不管是否捕获到异常，都执行该句\")"
   ]
  },
  {
   "cell_type": "code",
   "execution_count": 11,
   "metadata": {},
   "outputs": [
    {
     "name": "stdout",
     "output_type": "stream",
     "text": [
      "交换前3 4\n",
      "交换后4 3\n"
     ]
    }
   ],
   "source": [
    "# 42.python中交换两个数值\n",
    "a, b = 3, 4\n",
    "print(\"交换前{} {}\".format(a, b))\n",
    "a, b = b, a\n",
    "print(\"交换后{} {}\".format(a, b))"
   ]
  },
  {
   "cell_type": "code",
   "execution_count": 14,
   "metadata": {},
   "outputs": [
    {
     "name": "stdout",
     "output_type": "stream",
     "text": [
      "[(1, 3), (2, 4)]\n",
      "[(1, 3), (2, 4)]\n",
      "[('a', 'x'), ('b', 'y')]\n"
     ]
    }
   ],
   "source": [
    "# 43.举例说明zip()函数的用法\n",
    "# zip()函数在运算时，会以一个或多个序列(可迭代对象)作为参数，返回一个元组的列表，同时将这些序列中并排的元素配对\n",
    "# zip()参数可以接受任何类型的序列，同时也可以有两个以上的参数，当传入的参数的长度不同时，zip能自动以最短序列长度为准进行截取，获得元组\n",
    "a = [1, 2]\n",
    "b = [3, 4]\n",
    "res = [i for i in zip(a, b)]\n",
    "print(res)\n",
    "\n",
    "a = (1, 2)\n",
    "b = (3, 4)\n",
    "res = [i for i in zip(a, b)]\n",
    "print(res)\n",
    "\n",
    "a = \"ab\"\n",
    "b = \"xyz\"\n",
    "res = [i for i in zip(a, b)]\n",
    "print(res)"
   ]
  },
  {
   "cell_type": "code",
   "execution_count": 15,
   "metadata": {},
   "outputs": [
    {
     "name": "stdout",
     "output_type": "stream",
     "text": [
      "张明 100分\n"
     ]
    }
   ],
   "source": [
    "# 44.a = \"张明 98分\"，用re.sub,将98替换为100\n",
    "import re\n",
    "a = \"张明 98分\"\n",
    "ret = re.sub(r\"\\d+\", \"100\", a)\n",
    "print(ret)"
   ]
  },
  {
   "cell_type": "code",
   "execution_count": 16,
   "metadata": {},
   "outputs": [],
   "source": [
    "# 45.写5条常用SQL语句\n",
    "# show databases;\n",
    "# show tables;\n",
    "# desc 表名;\n",
    "# select * from 表名;\n",
    "# delete from 表名 where id=5;\n",
    "# update students set gender=0, hometown=\"北京\" where id=5"
   ]
  },
  {
   "cell_type": "code",
   "execution_count": 17,
   "metadata": {},
   "outputs": [
    {
     "name": "stdout",
     "output_type": "stream",
     "text": [
      "b'hello' b'\\xe5\\x93\\x88\\xe5\\x93\\x88'\n",
      "<class 'bytes'> <class 'bytes'>\n"
     ]
    }
   ],
   "source": [
    "# 46. a = \"hello\"和b = \"你好\"编码成bytes类型\n",
    "a = b\"hello\"\n",
    "b = \"哈哈\".encode()\n",
    "print(a, b)\n",
    "print(type(a), type(b))"
   ]
  },
  {
   "cell_type": "code",
   "execution_count": 18,
   "metadata": {},
   "outputs": [
    {
     "name": "stdout",
     "output_type": "stream",
     "text": [
      "[1, 2, 3, 4, 5, 6]\n"
     ]
    }
   ],
   "source": [
    "# 47. [1, 2, 3] + [4, 5, 6]的结果是多少？\n",
    "# 两个列表相加，等价于extend\n",
    "a = [1, 2, 3]\n",
    "b = [4, 5, 6]\n",
    "res = a + b\n",
    "print(res)"
   ]
  },
  {
   "cell_type": "code",
   "execution_count": 19,
   "metadata": {},
   "outputs": [],
   "source": [
    "# 48.提高Python运行效率的方法\n",
    "#1.使用生成器，因为可以节约大量内存\n",
    "#2.循环代码优化，避免过多重复代码的执行\n",
    "#3.核心模块用Cython PyPy等，提高效率\n",
    "#4.多进程、多线程、协程\n",
    "#5.多个if elif条件判断，可以把最有可能发生的条件放到前面写，这样可以减少程序判断的次数，提高效率"
   ]
  },
  {
   "cell_type": "code",
   "execution_count": 20,
   "metadata": {},
   "outputs": [],
   "source": [
    "# 49.简述MySQL和redis区别\n",
    "# redis：内存型非关系数据库，数据保存在内存中，速度快\n",
    "# MySQL：关系型数据库，数据保存在磁盘中，检索的话，会有一定的IO操作，访问速度相对慢"
   ]
  },
  {
   "cell_type": "code",
   "execution_count": 21,
   "metadata": {},
   "outputs": [],
   "source": [
    "# 50.遇到bug如何处理\n",
    "# 1.细节上的错误，通过print()打印，能执行到print()说明一般上面的代码没有问题，分段检测程序是否有问题，如果是js的话可以alert或console.log\n",
    "# 2.如果涉及一些第三方框架，会去查官方文档或者一些技术博客\n",
    "# 3.对于bug的管理与归类总结，一般测试将测试出的bug用teambin等bug管理工具进行记录，然后我们一条一条进行修改，修改的过程也是理解业务和提高自己\n",
    "#   编程逻辑缜密性的方法，我也都会收藏做一些笔记记录\n",
    "# 4.导包问题、城市定位多音节造成的显示错误问题"
   ]
  },
  {
   "cell_type": "code",
   "execution_count": 23,
   "metadata": {},
   "outputs": [
    {
     "name": "stdout",
     "output_type": "stream",
     "text": [
      "[('2018-03-20', '2018-03-20')]\n"
     ]
    }
   ],
   "source": [
    "# 51.正则匹配，匹配日期2018-03-20\n",
    "import re\n",
    "url = 'https://sycm.taobao.com/bda/tradinganaly/overview/get_summary.json?dataRange=2018-03-20%7C2018-03-20&dateType=recent1&device=1&token=\\\n",
    "      ff25b109b&_=1521595613462'\n",
    "result = re.findall(r'dataRange=(.*?)%7C(.*?)&', url)\n",
    "print(result)"
   ]
  },
  {
   "cell_type": "code",
   "execution_count": 25,
   "metadata": {},
   "outputs": [
    {
     "name": "stdout",
     "output_type": "stream",
     "text": [
      "[2, 3, 4, 5, 6, 9]\n"
     ]
    }
   ],
   "source": [
    "# 52. l = [2, 3, 5, 4, 9, 6],从小到大排序，不许用sort，输出[2, 3, 4, 5, 6, 9]\n",
    "# 利用min()方法求出最小值，原列表删除最小值，新列表加入最小值，递归调用获取最小值的函数，反复操作\n",
    "l = [2, 3, 5, 4, 9, 6]\n",
    "new_list = []\n",
    "def get_min(l):\n",
    "    a = min(l)  # 获取列表最小值\n",
    "    l.remove(a)  # 删除列表最小值\n",
    "    new_list.append(a)\n",
    "    if len(l) > 0:\n",
    "        get_min(l)\n",
    "    return new_list\n",
    "new_list = get_min(l)\n",
    "print(new_list)"
   ]
  },
  {
   "cell_type": "code",
   "execution_count": 26,
   "metadata": {},
   "outputs": [
    {
     "name": "stdout",
     "output_type": "stream",
     "text": [
      "93689616\n",
      "93689616\n",
      "19\n"
     ]
    }
   ],
   "source": [
    "# 53.写一个单例模式\n",
    "# 因为创建对象时__new__方法执行，并且必须return返回实例化出来的对象所cls.__instance是否存在，不存在的话就创建对象，存在的话就返回该对象，来\n",
    "# 保证只有一个实例对象存在(单例)，打印ID，值一样，说明对象同一个\n",
    "class Singleton(object):\n",
    "    __instance = None\n",
    "    def __new__(cls, age, name):\n",
    "        if not cls.__instance:\n",
    "            cls.__instance = object.__new__(cls)\n",
    "        return cls.__instance\n",
    "\n",
    "a = Singleton(18, \"dongGe\")\n",
    "b = Singleton(8, \"dongGe\")\n",
    "print(id(a))\n",
    "print(id(b))\n",
    "\n",
    "a.age = 19\n",
    "print(b.age)"
   ]
  },
  {
   "cell_type": "code",
   "execution_count": 27,
   "metadata": {},
   "outputs": [
    {
     "name": "stdout",
     "output_type": "stream",
     "text": [
      "1.333 <class 'str'>\n",
      "1.3\n",
      "1.33\n",
      "{'a': 1, 'b': 2, 'c': 3, 'd': 4, 'e': 5}\n"
     ]
    }
   ],
   "source": [
    "# 54.保留两位小数\n",
    "# 题目本身只有a = \"%.03f\" % 1.3335,让计算a的结果，为了扩充保留小数的思路，提供round方法(数值，保留位数)\n",
    "a = \"%.03f\" % 1.3335\n",
    "print(a, type(a))\n",
    "b = round(float(a), 1)\n",
    "print(b)\n",
    "b = round(float(a), 2)\n",
    "print(b)\n",
    "\n",
    "A = zip((\"a\", \"b\", \"c\", \"d\", \"e\"), (1, 2, 3, 4, 5))\n",
    "A0 = dict(A)\n",
    "print(A0)"
   ]
  },
  {
   "cell_type": "code",
   "execution_count": 28,
   "metadata": {},
   "outputs": [
    {
     "name": "stdout",
     "output_type": "stream",
     "text": [
      "{'one': 1}\n",
      "{'one': 1, 'two': 2}\n",
      "{'three': 3}\n"
     ]
    }
   ],
   "source": [
    "# 55.求三个方法打印结果\n",
    "# fn(\"one\", 1)直接将键值对传给字典\n",
    "# fn(\"two\", 2)因为字典在内存中是可变数据类型，所以指向同一个地址，传了新的参数后，会相当于给字典增加键值对\n",
    "# fn(\"three\", 3， {})因为传了一个新字典，所以不再是原先默认参数的字典\n",
    "def fn(k, v, dic={}):\n",
    "    dic[k] = v\n",
    "    print(dic)\n",
    "    \n",
    "fn(\"one\", 1)\n",
    "fn(\"two\", 2)\n",
    "fn(\"three\", 3, {})"
   ]
  },
  {
   "cell_type": "code",
   "execution_count": 30,
   "metadata": {},
   "outputs": [],
   "source": [
    "# 56.列出常见的状态吗和意义\n",
    "# 200       OK      请求正常处理完毕\n",
    "# 204       No Content 请求成功处理，没有实体的主体返回\n",
    "# 206       Partial Content  GET范围请求已成功处理\n",
    "# 301       Moved Permanently  永久重定向，资源已永久分配新URI\n",
    "# 302       Found      临时重定向，资源已临时分配新URI\n",
    "# 303       See Other   临时重定向，期望使用GET定向获取\n",
    "# 304       Not Modified   发送的附带条件请求未满足\n",
    "# 307       Temporary Redirect 临时重定向，POST不会变GET\n",
    "# 400       Bad Request    请求报文语法错误或参数错误\n",
    "# 401       Unauthorized   需要通过HTTP认证，或认证失败\n",
    "# 403       Forbidden      请求资源被拒绝\n",
    "# 404       Not Found      无法找到请求资源（服务器无理由拒绝）\n",
    "# 500       Internal Server Error   服务器故障或Web应用故障\n",
    "# 503       Service Unavailable     服务器超负载或停机维护"
   ]
  },
  {
   "cell_type": "code",
   "execution_count": 31,
   "metadata": {},
   "outputs": [],
   "source": [
    "# 57.分别从前端、后端、数据库阐述web项目的性能优化\n",
    "# 前端优化：\n",
    "#         1.减少http请求，例如制作精灵图\n",
    "#         2.html和CSS放在页面上部，JavaScript放在页面下面，因为js加载比HTML和CSS加载慢，所以要优先加载HTML和CSS，以防页面显示不全，性能差，也\n",
    "#           影响用户体验\n",
    "# 后端优化：\n",
    "#        1.缓存存储读写次数高，变化少的数据，比如网站首页的信息、商品的信息等。应用程序读取数据时，一般是先从缓存中读取，如果读取不到或数据\n",
    "#          已失效，再访问磁盘数据库，并将数据再次写入缓存\n",
    "#        2.异步方式，如果有耗时操作，可以采用异步，比如celery\n",
    "#        3.代码优化，避免循环和判断次数太多，如果多个if else判断，优先判断最有可能先发生的情况\n",
    "# 数据库优化：\n",
    "#        1.如有条件，数据可以存放于redis，读取速度快\n",
    "#        2.建立索引、外键等"
   ]
  },
  {
   "cell_type": "code",
   "execution_count": 32,
   "metadata": {},
   "outputs": [
    {
     "name": "stdout",
     "output_type": "stream",
     "text": [
      "{'age': 18}\n",
      "{'age': 18}\n"
     ]
    }
   ],
   "source": [
    "# 58. 使用pop和del删除字典中的“name”字段，dic={\"name\":\"zs\", \"age\":18}\n",
    "dic = {\"name\":\"zs\", \"age\":18}\n",
    "dic.pop(\"name\")\n",
    "print(dic)\n",
    "dic = {\"name\":\"zs\", \"age\":18}\n",
    "del dic[\"name\"]\n",
    "print(dic)"
   ]
  },
  {
   "cell_type": "code",
   "execution_count": 33,
   "metadata": {},
   "outputs": [],
   "source": [
    "# 59. 列出常见的MySQL数据存储引擎\n",
    "# InNoDB：支持事务处理，支持外键，支持崩溃修复能力和并发控制。如果需要对事物的完整性要求比较高(比如银行),要求实现并发控制(比如售票),那应该选择\n",
    "#         InnoDB有很大优势。如果需要频繁的更新、删除操作的数据库，也可以选择InnoDB，因为支持事物的提交(commit)和回滚(rollback)\n",
    "# MyISAM:插入数据快，空间和内存使用比较低。如果表主要是用于插入新纪录和读出记录，那么选择MyISAM能实现处理高效率。如果应用的完整性、并发行要求\n",
    "#        比较低，也可以使用\n",
    "# MEMORY:所有的数据都在内存中，数据的处理速度快，但是安全性不高。如果需要很快的读写速度，对数据的安全性要求较低，可以选择MEMORY。它对表的大小\n",
    "#        有要求，不能建立太大的表。所以，这类数据库只使用在相对较小的数据库表。"
   ]
  },
  {
   "cell_type": "code",
   "execution_count": 35,
   "metadata": {},
   "outputs": [
    {
     "name": "stdout",
     "output_type": "stream",
     "text": [
      "A0 {'a': 1, 'b': 2, 'c': 3, 'd': 4, 'e': 5}\n",
      "[('a', 1), ('b', 2), ('c', 3), ('d', 4), ('e', 5)]\n",
      "[]\n",
      "[1, 2, 3, 4, 5]\n",
      "{'name': 'zs', 'age': 18}\n",
      "{'name': 'zs', 'age': 18}\n"
     ]
    }
   ],
   "source": [
    "# 60.计算代码运行结果，zip函数历史文章已经说了，得出[(\"a\", a), (\"b\", 2), (\"c\", 3), (\"d\", 4), (\"e\", 5)]\n",
    "A = zip((\"a\", \"b\", \"c\", \"d\", \"e\"), (1, 2, 3, 4, 5))\n",
    "A0 = dict(A)\n",
    "A1 = range(10)\n",
    "A2 = [i for i in A1 if i in A0]\n",
    "A3 = [A0[s] for s in A0]\n",
    "print(\"A0\", A0)\n",
    "print(list(zip((\"a\", \"b\", \"c\", \"d\", \"e\"), (1, 2, 3, 4, 5))))\n",
    "print(A2)\n",
    "print(A3)\n",
    "\n",
    "# dict()创建字典新方法\n",
    "s = dict([[\"name\", \"zs\"], [\"age\", 18]])\n",
    "print(s)\n",
    "\n",
    "s = dict([(\"name\", \"zs\"), (\"age\", 18)])\n",
    "print(s)"
   ]
  },
  {
   "cell_type": "code",
   "execution_count": 36,
   "metadata": {},
   "outputs": [],
   "source": [
    "# 61.简述同源策略\n",
    "#   同源策略需要同时满足三个要求：\n",
    "#   1）协议相同   2）域名相同   3）端口相同\n",
    "#   http://www.test.com与https://www.test.com不同源——协议不同\n",
    "#   http://www.test.com与http://www.admin.com不同源——域名不同\n",
    "#   http://www.test.com与http://www.test.com:8081 不同源——端口不同\n",
    "#   只要不满足其中任意一个要求，就不符合同源策略，就会出现“跨域”"
   ]
  },
  {
   "cell_type": "code",
   "execution_count": 37,
   "metadata": {},
   "outputs": [],
   "source": [
    "# 62.简述cookie和session的区别\n",
    "# 1.session在服务器端，cookie在客户端（浏览器）\n",
    "# 2.session的运行以来session id，而session id是存在cookie中的，也就是说，如果浏览器禁用了cookie，同时session也会失效，存储session时，键与cookie\n",
    "#   中的sessionid相同，值是开发人员设置的键值对信息，进行了base64编码，过期时间由开发人员设置\n",
    "# 3.cookie安全性比session差"
   ]
  },
  {
   "cell_type": "code",
   "execution_count": 38,
   "metadata": {},
   "outputs": [],
   "source": [
    "# 63.简述多线程、多进程\n",
    "# 进程：\n",
    "#      1.操作系统进行资源分配和调度的基本单位，多个进程之间相互独立\n",
    "#      2.稳定性好，如果一个进程崩溃，不影响其他进程，但是进程消耗资源大，开启的进程数量有限制\n",
    "# 线程：\n",
    "#      1.CPU进行资源分配和调度的基本单位，线程是进程的一部分，是比进程更小的能独立运行的基本单位，一个进程下的多个线程可以共享该进程的所有资源\n",
    "#      2.如果IO操作密集，则可以多线程运行效率高，缺点是如果一个线程崩溃，都会造成进程的崩溃\n",
    "# 应用：\n",
    "#      IO密集的用多线程，在用户输入，sleep时候可以切换到其他线程执行，减少等待的时间\n",
    "#      CPU密集的用多进程，因为假如IO操作少，用多线程的话，因为线程共享一个全局解释器锁，当前运行的线程会霸占GIL，其他线程没有GIL，就不能充分\n",
    "#      利用多核CPU的优势"
   ]
  },
  {
   "cell_type": "code",
   "execution_count": 46,
   "metadata": {},
   "outputs": [
    {
     "name": "stdout",
     "output_type": "stream",
     "text": [
      "True\n",
      "False\n",
      "False\n"
     ]
    }
   ],
   "source": [
    "# 64. 简述any()和all()方法\n",
    "# any():只要迭代器中有一个元素为真就为真\n",
    "# all():迭代器中所有的判断项返回都是真，结果才为真\n",
    "\n",
    "# 测试all()和any()方法\n",
    "a = [True, False]\n",
    "print(any(a))\n",
    "print(all(a))\n",
    "\n",
    "a = \"\"\n",
    "print(any(a))"
   ]
  },
  {
   "cell_type": "code",
   "execution_count": 44,
   "metadata": {},
   "outputs": [
    {
     "name": "stdout",
     "output_type": "stream",
     "text": [
      "True\n"
     ]
    }
   ],
   "source": [
    "b = [\"good\", \"good\", \"good\", \"bad\"]\n",
    "print(all(b))"
   ]
  },
  {
   "cell_type": "code",
   "execution_count": 45,
   "metadata": {},
   "outputs": [
    {
     "name": "stdout",
     "output_type": "stream",
     "text": [
      "True\n",
      "True\n",
      "False\n"
     ]
    }
   ],
   "source": [
    "b = [\"good\", \"good\", \"good\", \"\"]\n",
    "print(all(\"b\"))\n",
    "print(any(\"b\"))\n",
    "print(all(b))"
   ]
  },
  {
   "cell_type": "code",
   "execution_count": 42,
   "metadata": {},
   "outputs": [
    {
     "name": "stdout",
     "output_type": "stream",
     "text": [
      "False\n",
      "False\n",
      "False\n",
      "False\n",
      "False\n",
      "False\n"
     ]
    }
   ],
   "source": [
    "# Python中什么元素为假？     （0，空字符串，空列表，空字典，空元组，None，False）\n",
    "print(bool(0)); print(bool(\"\")); print(bool([])); print(bool({})); print(bool(())); print(bool(None))"
   ]
  },
  {
   "cell_type": "code",
   "execution_count": 47,
   "metadata": {},
   "outputs": [],
   "source": [
    "# 65. IOError:输入输出异常\n",
    "#     AttributeError:试图访问一个对象没有的属性\n",
    "#     ImportError: 无法引入模块或包，基本是路径问题\n",
    "#     IndentationError:语法错误，代码没有正确对齐\n",
    "#     IndexError:下标索引超出序列边界\n",
    "#     KeyError:试图访问你字典里不存在的键\n",
    "#     SyntaxError:Python代码逻辑语法出错，不能执行\n",
    "#     NameError:使用一个还未赋予对象的变量"
   ]
  },
  {
   "cell_type": "code",
   "execution_count": 50,
   "metadata": {},
   "outputs": [
    {
     "name": "stdout",
     "output_type": "stream",
     "text": [
      "哈哈 93770568\n",
      "哈哈 93770568\n",
      "哈哈 93770568\n",
      "哈哈 93770568\n"
     ]
    }
   ],
   "source": [
    "# 66. Python中的copy和deepcopy的区别\n",
    "#     1.复制不可变数据类型，不管copy还是deepcopy，都是同一个地址当浅复制的值是不可变对象(数值、字符串、元组)时和=“赋值”的情况一样，对象的id\n",
    "#       值与浅复制原来的值相同\n",
    "import copy\n",
    "a = \"哈哈\"\n",
    "b = a\n",
    "c = copy.copy(a)\n",
    "d = copy.deepcopy(a)\n",
    "print(a, id(a))\n",
    "print(b, id(b))\n",
    "print(c, id(c))\n",
    "print(d, id(d))"
   ]
  },
  {
   "cell_type": "code",
   "execution_count": 52,
   "metadata": {},
   "outputs": [
    {
     "name": "stdout",
     "output_type": "stream",
     "text": [
      "测试原始数据和copy及deepcopy后的结果及ID地址\n",
      "原始数据和id [1, 2, [3, 4]] 93841608\n",
      "浅拷贝数据和id [1, 2, [3, 4]] 93841416\n",
      "深拷贝数据和id [1, 2, [3, 4]] 93680904\n",
      "结果表明对于外层列表来说，三者是独立的对象\n",
      "***********************************************\n",
      "测试时修改外层列表的简单子对象，也就是修改1或者2\n",
      "1改10的结果原始数据 [10, 2, [3, 4]]\n",
      "1改10的结果浅拷贝 [1, 2, [3, 4]]\n",
      "1改10的结果深拷贝 [1, 2, [3, 4]]\n",
      "结果表明修改了原始l之后，a和b并没有随之改变，符合我们的正常逻辑，因为是三个不同的对象\n",
      "************************************************\n",
      "测试内层列表的值修改，也就是测试复杂子对象的值的修改\n",
      "将3改5的结果原始数据 [10, 2, [5, 4]]\n",
      "将3改5的结果浅拷贝 [1, 2, [5, 4]]\n",
      "将3改5的结果深拷贝 [1, 2, [3, 4]]\n",
      "结果表明copy浅拷贝并没有真正将内层列表(字典)独立拷贝出来，导致修改了l内层列表(字典)后a的内层列表(字典)值也变了\n",
      "结果表明deepcopy深拷贝可以将内层列表(字典)独立拷贝出来，所以b的内层列表(字典)值不变\n"
     ]
    }
   ],
   "source": [
    "#       2.复制的值是可变对象（列表和字典）\n",
    "#       浅拷贝copy有两种情况：\n",
    "#        第一种：复制的对象中无复杂子对象，原来值的改变并不会影响浅复制的值，同时浅复制的值改变也并不会影响原来的值。原来值的id值与浅复制原来\n",
    "#                的值不同\n",
    "#        第二种：复制的对象中有复杂子对象（例如列表中的一个子元素是一个列表），改变原来的值中的复杂子对象，会影响浅复制的值\n",
    "#       深拷贝deepcopy：完全复制独立，包括内层列表和字典\n",
    "l = [1, 2, [3, 4]]\n",
    "a = copy.copy(l)\n",
    "b = copy.deepcopy(l)\n",
    "print(\"测试原始数据和copy及deepcopy后的结果及ID地址\")\n",
    "print(\"原始数据和id\", l, id(l))\n",
    "print(\"浅拷贝数据和id\", a, id(a))\n",
    "print(\"深拷贝数据和id\", b, id(b))\n",
    "print(\"结果表明对于外层列表来说，三者是独立的对象\")\n",
    "print(\"***********************************************\")\n",
    "print(\"测试时修改外层列表的简单子对象，也就是修改1或者2\")\n",
    "l[0] = 10\n",
    "print(\"1改10的结果原始数据\", l)\n",
    "print(\"1改10的结果浅拷贝\", a)\n",
    "print(\"1改10的结果深拷贝\", b)\n",
    "print(\"结果表明修改了原始l之后，a和b并没有随之改变，符合我们的正常逻辑，因为是三个不同的对象\")\n",
    "print(\"************************************************\")\n",
    "print(\"测试内层列表的值修改，也就是测试复杂子对象的值的修改\")\n",
    "l[2][0] = 5\n",
    "print(\"将3改5的结果原始数据\", l)\n",
    "print(\"将3改5的结果浅拷贝\", a)\n",
    "print(\"将3改5的结果深拷贝\", b)\n",
    "print(\"结果表明copy浅拷贝并没有真正将内层列表(字典)独立拷贝出来，导致修改了l内层列表(字典)后a的内层列表(字典)值也变了\")\n",
    "print(\"结果表明deepcopy深拷贝可以将内层列表(字典)独立拷贝出来，所以b的内层列表(字典)值不变\")"
   ]
  },
  {
   "cell_type": "code",
   "execution_count": 53,
   "metadata": {},
   "outputs": [],
   "source": [
    "# 67.列出几种魔方方法并简要介绍用途\n",
    "#    __init__:对象初始化方法\n",
    "#    __new__:创建对象时候执行的方法，单例模式会用到\n",
    "#    __str__:当使用print输出对象的时候，只要自己定义了__str__(self)方法，那么就会打印从现在这个方法中return的数据\n",
    "#    __del__:删除对象执行的方法"
   ]
  },
  {
   "cell_type": "code",
   "execution_count": 54,
   "metadata": {},
   "outputs": [],
   "source": [
    "# 68. C:\\Users\\ry-wu.junya\\Desktop>python 1.py 22 33命令行启动程序并传参，print(sys.argv)会输出什么数据？\n",
    "# ['1.py', '22', '33']"
   ]
  },
  {
   "cell_type": "code",
   "execution_count": 55,
   "metadata": {},
   "outputs": [
    {
     "data": {
      "text/plain": [
       "generator"
      ]
     },
     "execution_count": 55,
     "metadata": {},
     "output_type": "execute_result"
    }
   ],
   "source": [
    "# 69. 请将[i for i in range(3)]改成生成器\n",
    "#  生成器是特殊的迭代器\n",
    "#   1. 列表表达式的[]改为()即可变成生成器\n",
    "#   2. 函数在返回值的时候出现yield就变成生成器，而不是函数了；\n",
    "a = (i for i in range(3))\n",
    "type(a)"
   ]
  },
  {
   "cell_type": "code",
   "execution_count": 56,
   "metadata": {},
   "outputs": [
    {
     "data": {
      "text/plain": [
       "'hehheh'"
      ]
     },
     "execution_count": 56,
     "metadata": {},
     "output_type": "execute_result"
    }
   ],
   "source": [
    "# 70. a = \" hehheh \",去除首尾空格\n",
    "a = \" hehheh \"\n",
    "a.strip()"
   ]
  },
  {
   "cell_type": "code",
   "execution_count": 57,
   "metadata": {},
   "outputs": [
    {
     "name": "stdout",
     "output_type": "stream",
     "text": [
      "l.sort在list基础上修改，无返回值 [-10, -1, 0, 3, 5, 9]\n",
      "sorted有返回值是新的list [0, -1, 3, -10, 5, 9]\n",
      "返回值 [-10, -1, 0, 3, 5, 9]\n"
     ]
    }
   ],
   "source": [
    "# 71. 举例sort和sorted对列表排序，l = [0, -1, 3, -10, 5, 9]\n",
    "l = [0, -1, 3, -10, 5, 9]\n",
    "l.sort(reverse=False)\n",
    "print(\"l.sort在list基础上修改，无返回值\", l)\n",
    "\n",
    "l = [0, -1, 3, -10, 5, 9]\n",
    "res = sorted(l, reverse=False)\n",
    "print(\"sorted有返回值是新的list\", l)\n",
    "print(\"返回值\", res)"
   ]
  },
  {
   "cell_type": "code",
   "execution_count": 58,
   "metadata": {},
   "outputs": [
    {
     "name": "stdout",
     "output_type": "stream",
     "text": [
      "[-20, -5, -4, -4, -2, 0, 2, 4, 8, 8, 9]\n"
     ]
    }
   ],
   "source": [
    "# 72. 对list排序foo = [-5, 8, 0, 4, 9, -4, -20, -2, 8, 2, -4],使用lambda函数从小到大排序\n",
    "foo = [-5, 8, 0, 4, 9, -4, -20, -2, 8, 2, -4]\n",
    "a = sorted(foo, key=lambda x : x)\n",
    "print(a)"
   ]
  },
  {
   "cell_type": "code",
   "execution_count": 60,
   "metadata": {},
   "outputs": [
    {
     "name": "stdout",
     "output_type": "stream",
     "text": [
      "[0, 2, 4, 8, 8, 9, -2, -4, -4, -5, -20]\n"
     ]
    }
   ],
   "source": [
    "# 73. 使用lambda函数对list排序foo = [-5, 8, 0, 4, 9, -4, -20, -2, 8, 2, -4],输出结果为[0, 2, 4, 8, 8, 9, -2, -4, -4, -5, -20],\n",
    "#     正数从小到大，负数从大到小\n",
    "# （传两个条件，x < 0 和 abs(x)）\n",
    "foo = [-5, 8, 0, 4, 9, -4, -20, -2, 8, 2, -4]\n",
    "a = sorted(foo, key=lambda x:(x<0, abs(x)))\n",
    "print(a)"
   ]
  },
  {
   "cell_type": "code",
   "execution_count": 63,
   "metadata": {},
   "outputs": [
    {
     "name": "stdout",
     "output_type": "stream",
     "text": [
      "[{'name': 'll', 'age': 54}, {'name': 'df', 'age': 23}, {'name': 'zs', 'age': 19}, {'name': 'wa', 'age': 17}]\n",
      "[{'name': 'df', 'age': 23}, {'name': 'll', 'age': 54}, {'name': 'wa', 'age': 17}, {'name': 'zs', 'age': 19}]\n"
     ]
    }
   ],
   "source": [
    "# 74. 列表嵌套字典，分别根据年龄和姓名排序\n",
    "foo = [{\"name\":\"zs\", \"age\":19}, {\"name\":\"ll\", \"age\":54},\n",
    "       {\"name\":\"wa\", \"age\":17}, {\"name\":\"df\", \"age\":23}]\n",
    "a = sorted(foo, key=lambda x : x[\"age\"], reverse=True)  # 年龄从大到小\n",
    "print(a)\n",
    "a = sorted(foo, key=lambda x : x[\"name\"])\n",
    "print(a)"
   ]
  },
  {
   "cell_type": "code",
   "execution_count": 64,
   "metadata": {},
   "outputs": [
    {
     "name": "stdout",
     "output_type": "stream",
     "text": [
      "[('ll', 54), ('df', 23), ('zs', 19), ('wa', 17)]\n",
      "[('df', 23), ('ll', 54), ('wa', 17), ('zs', 19)]\n"
     ]
    }
   ],
   "source": [
    "# 75. 列表嵌套元组，分别按字母和数字排序\n",
    "foo = [(\"zs\", 19), (\"ll\", 54), (\"wa\", 17), (\"df\", 23)]\n",
    "a = sorted(foo, key=lambda x : x[1], reverse=True)\n",
    "print(a)\n",
    "a = sorted(foo, key=lambda x : x[0])\n",
    "print(a)"
   ]
  },
  {
   "cell_type": "code",
   "execution_count": 65,
   "metadata": {},
   "outputs": [
    {
     "name": "stdout",
     "output_type": "stream",
     "text": [
      "[['zs', 19], ['df', 23], ['wa', 23], ['xf', 23], ['ll', 54]]\n",
      "[['df', 23], ['ll', 54], ['wa', 23], ['xf', 23], ['zs', 19]]\n"
     ]
    }
   ],
   "source": [
    "# 76. 列表嵌套列表排序，年龄数字相同怎么办？\n",
    "foo = [[\"zs\", 19], [\"ll\", 54], [\"wa\", 23], [\"df\", 23], [\"xf\", 23]]\n",
    "a = sorted(foo, key=lambda x : (x[1], x[0]))  # 添加参数，按字母排序\n",
    "print(a)\n",
    "a = sorted(foo, key=lambda x : x[0])\n",
    "print(a)"
   ]
  },
  {
   "cell_type": "code",
   "execution_count": 66,
   "metadata": {},
   "outputs": [
    {
     "name": "stdout",
     "output_type": "stream",
     "text": [
      "字典转列表嵌套元组 [('name', 'zs'), ('sex', 'man'), ('city', 'bj')]\n",
      "根据键排序 [('city', 'bj'), ('name', 'zs'), ('sex', 'man')]\n",
      "字典推导式构造新字典 {'city': 'bj', 'name': 'zs', 'sex': 'man'}\n"
     ]
    }
   ],
   "source": [
    "# 77. 根据键对字典排序(方法一，zip函数)\n",
    "dic = {\"name\":\"zs\", \"sex\":\"man\", \"city\":\"bj\"}\n",
    "foo = zip(dic.keys(), dic.values())  # 字典转列表嵌套元组\n",
    "foo = [i for i in foo]\n",
    "print(\"字典转列表嵌套元组\", foo)\n",
    "b = sorted(foo, key=lambda x : x[0]) # 字典嵌套元组排序\n",
    "print(\"根据键排序\", b)\n",
    "new_dic = {i[0]:i[1] for i in b}  # 排序完构造新字典\n",
    "print(\"字典推导式构造新字典\", new_dic)"
   ]
  },
  {
   "cell_type": "code",
   "execution_count": 67,
   "metadata": {},
   "outputs": [
    {
     "name": "stdout",
     "output_type": "stream",
     "text": [
      "字典转列表嵌套元组 [('name', 'zs'), ('sex', 'man'), ('city', 'bj')]\n",
      "dict_items([('name', 'zs'), ('sex', 'man'), ('city', 'bj')])\n",
      "根据键排序 [('city', 'bj'), ('name', 'zs'), ('sex', 'man')]\n",
      "字典推导式构造新字典 {'city': 'bj', 'name': 'zs', 'sex': 'man'}\n"
     ]
    }
   ],
   "source": [
    "# 78. 根据键对字典排序(方法二，不用zip)\n",
    "dic = {\"name\":\"zs\", \"sex\":\"man\", \"city\":\"bj\"}\n",
    "print(\"字典转列表嵌套元组\", foo)\n",
    "print(dic.items())\n",
    "b = sorted(dic.items(), key=lambda x : x[0])\n",
    "print(\"根据键排序\", b)\n",
    "new_dic = {i[0]:i[1] for i in b}\n",
    "print(\"字典推导式构造新字典\", new_dic)"
   ]
  },
  {
   "cell_type": "code",
   "execution_count": 68,
   "metadata": {},
   "outputs": [
    {
     "name": "stdout",
     "output_type": "stream",
     "text": [
      "列表推导式 [0, 1, 2, 3, 4, 5, 6, 7, 8, 9] <class 'list'>\n",
      "生成器 <generator object <genexpr> at 0x000000000596D620> <class 'generator'>\n",
      "字典推导式 {'a': 4, 'b': 6, 'c': 8, 'd': 4} <class 'dict'>\n"
     ]
    }
   ],
   "source": [
    "# 79. 列表推导式、字典推导式、生成器\n",
    "import random\n",
    "td_list = [i for i in range(10)]\n",
    "print(\"列表推导式\", td_list, type(td_list))\n",
    "\n",
    "ge_list = (i for i in range(10))\n",
    "print(\"生成器\", ge_list, type(ge_list))\n",
    "\n",
    "dic = {k:random.randint(4, 9) for k in [\"a\", \"b\", \"c\", \"d\"]}\n",
    "print(\"字典推导式\", dic, type(dic))"
   ]
  },
  {
   "cell_type": "code",
   "execution_count": 69,
   "metadata": {},
   "outputs": [
    {
     "name": "stdout",
     "output_type": "stream",
     "text": [
      "['a', 'ab', 'abc', 'djkj'] ['ab', 'abc', 'a', 'djkj']\n",
      "['a', 'ab', 'abc', 'djkj']\n"
     ]
    }
   ],
   "source": [
    "# 80. 根据字符串长度排序\n",
    "s = [\"ab\", \"abc\", \"a\", \"djkj\"]\n",
    "b = sorted(s, key=lambda x : len(x))  # sorted 有返回值，不改变s本身\n",
    "print(b, s)\n",
    "s.sort(key=len)  # sort 无返回值，在s自身修改\n",
    "print(s)"
   ]
  },
  {
   "cell_type": "code",
   "execution_count": 72,
   "metadata": {},
   "outputs": [
    {
     "name": "stdout",
     "output_type": "stream",
     "text": [
      "正常SQL语句 select * from demo where name=\"zs\"\n",
      "SQL注入语句select * from demo where name='zs;drop databases demo'\n"
     ]
    }
   ],
   "source": [
    "# 81. 举例说明SQL注入和解决办法\n",
    "# 当以字符串格式化书写方式的时候，如果用户输入有;+SQL语句，后面的SQL语句会执行，比如例子中的SQL注入会删除数据库demo\n",
    "input_name = \"zs\"\n",
    "sql = 'select * from demo where name=\"%s\"' % input_name\n",
    "print(\"正常SQL语句\", sql)\n",
    "\n",
    "input_name = \"zs;drop databases demo\"\n",
    "sql = \"select * from demo where name='%s'\" % input_name\n",
    "print(\"SQL注入语句{}\".format(sql))\n",
    "\n",
    "# 解决方式：通过传参方式解决SQL注入\n",
    "params = [input_name]\n",
    "#count = cs1.execute(\"select * from goods where name=%s\", params)"
   ]
  },
  {
   "cell_type": "code",
   "execution_count": 73,
   "metadata": {},
   "outputs": [
    {
     "name": "stdout",
     "output_type": "stream",
     "text": [
      "['info', 'xiaoZhang', '33', 'shandong']\n"
     ]
    }
   ],
   "source": [
    "# 82. s=\"info:xiaoZhang 33 shandong\",用正则表达式切分字符串输出['info', 'xiaoZhang', '33', 'shandong']\n",
    "# |表示或，根据冒号或者空格切分\n",
    "s = \"info:xiaoZhang 33 shandong\"\n",
    "res = re.split(r\":| \", s)\n",
    "print(res)"
   ]
  },
  {
   "cell_type": "code",
   "execution_count": 75,
   "metadata": {},
   "outputs": [
    {
     "name": "stdout",
     "output_type": "stream",
     "text": [
      "xiaoWang@163.com 是符合规定的邮箱地址，匹配后的结果是:xiaoWang@163.com\n",
      "xiaoWang@163.comheiehei 不符合要求\n",
      ".com.xiaowang@qq.com 不符合要求\n"
     ]
    }
   ],
   "source": [
    "# 83. 正则匹配以163.com结尾的邮箱\n",
    "email_list = [\"xiaoWang@163.com\", \"xiaoWang@163.comheiehei\", \".com.xiaowang@qq.com\"]\n",
    "for email in email_list:\n",
    "    ret = re.match(\"[\\w]{4,20}@163\\.com$\", email)\n",
    "    if ret:\n",
    "        print(\"%s 是符合规定的邮箱地址，匹配后的结果是:%s\" % (email, ret.group()))\n",
    "    else:\n",
    "        print(\"%s 不符合要求\" % email)"
   ]
  },
  {
   "cell_type": "code",
   "execution_count": 76,
   "metadata": {},
   "outputs": [
    {
     "name": "stdout",
     "output_type": "stream",
     "text": [
      "55\n"
     ]
    }
   ],
   "source": [
    "# 84. 递归求和\n",
    "def get_sum(num):\n",
    "    if num >= 1:\n",
    "        res = num + get_sum(num-1)\n",
    "    else:\n",
    "        res = 0\n",
    "    return res\n",
    "res = get_sum(10)\n",
    "print(res)"
   ]
  },
  {
   "cell_type": "code",
   "execution_count": 78,
   "metadata": {},
   "outputs": [
    {
     "name": "stdout",
     "output_type": "stream",
     "text": [
      "{\"name\": \"zs\"} <class 'str'>\n",
      "{'name': 'zs'} <class 'dict'>\n"
     ]
    }
   ],
   "source": [
    "# 85. Python字典和json字符串相互转化方法\n",
    "import json\n",
    "dic = {\"name\":\"zs\"}\n",
    "res = json.dumps(dic)\n",
    "print(res, type(res))\n",
    "ret = json.loads(res)\n",
    "print(ret, type(ret))"
   ]
  },
  {
   "cell_type": "code",
   "execution_count": 79,
   "metadata": {},
   "outputs": [],
   "source": [
    "# 86. MyISAM与InnoDB区别：\n",
    "# 1.InnoDB支持事物，MyISAM不支持，这一点是非常之重要。事物是一种高级处理方式，如在一些列增删查改中只要哪个出错还可以回滚还原，而MyISAM就不可以\n",
    "# 2.MyISAM适合查询以及插入为主的应用，InnoDB适合频繁修改以及涉及到安全性较高的应用\n",
    "# 3.InnoDB支持外键，MyISAM不支持\n",
    "# 4.对于自增长的字段，InnoDB中必须包含该字段的索引，但是在MyISAM表中可以和其他字段一起建立联合索引\n",
    "# 5.清空整个表时，InnoDB是一行一行的删除，效率非常低。MyISAM则会重建表"
   ]
  },
  {
   "cell_type": "code",
   "execution_count": 80,
   "metadata": {},
   "outputs": [
    {
     "name": "stdout",
     "output_type": "stream",
     "text": [
      "2\n"
     ]
    }
   ],
   "source": [
    "# 87. 统计字符串中某字符出现次数\n",
    "str = \"张三  美国  张三  哈哈  张 三\"\n",
    "res = str.count(\"张三\")\n",
    "print(res)"
   ]
  },
  {
   "cell_type": "code",
   "execution_count": 81,
   "metadata": {},
   "outputs": [
    {
     "name": "stdout",
     "output_type": "stream",
     "text": [
      "HHHUUU\n",
      "hhhuuu\n"
     ]
    }
   ],
   "source": [
    "# 88. 字符串转化大小写\n",
    "str = \"HHHuuu\"\n",
    "print(str.upper())\n",
    "print(str.lower())"
   ]
  },
  {
   "cell_type": "code",
   "execution_count": 82,
   "metadata": {},
   "outputs": [
    {
     "name": "stdout",
     "output_type": "stream",
     "text": [
      "helloworldhaha\n",
      "helloworldhaha\n"
     ]
    }
   ],
   "source": [
    "# 89. 用两种方法去空格\n",
    "str = \"hello world ha ha\"\n",
    "res = str.replace(\" \", \"\")\n",
    "print(res)\n",
    "\n",
    "l = str.split(\" \")\n",
    "res = \"\".join(l)\n",
    "print(res)"
   ]
  },
  {
   "cell_type": "code",
   "execution_count": 83,
   "metadata": {},
   "outputs": [
    {
     "name": "stdout",
     "output_type": "stream",
     "text": [
      "13100001234 不是想要的手机号\n",
      "想要的结果 18912344321\n",
      "10086 不是想要的手机号\n",
      "18800007777 不是想要的手机号\n"
     ]
    }
   ],
   "source": [
    "# 90. 正则匹配不是以4和7结尾的手机号\n",
    "tels = [\"13100001234\", \"18912344321\", \"10086\", \"18800007777\"]\n",
    "for tel in tels:\n",
    "    ret = re.match(\"1\\d{9}[0-3,5-6,8-9]\", tel)\n",
    "    if ret:\n",
    "        print(\"想要的结果\", ret.group())\n",
    "    else:\n",
    "        print(\"%s 不是想要的手机号\" % tel)\n",
    "        "
   ]
  },
  {
   "cell_type": "code",
   "execution_count": 84,
   "metadata": {},
   "outputs": [
    {
     "name": "stdout",
     "output_type": "stream",
     "text": [
      "__init__方法被调用\n",
      "96184920 96184920 96184920\n",
      "---马上删除cat对象\n",
      "---马上删除cat2对象\n",
      "---马上删除cat3对象\n",
      "__del__方法被调用\n",
      "波斯猫对象马上被干掉了。。。\n",
      "程序2秒钟后结束\n"
     ]
    }
   ],
   "source": [
    "# 91. 简述Python的引用计数机制\n",
    "# python垃圾回收主要以引用计数为主，标记-清除和分代清除为辅的机制，其中标记-清除和分代回收主要是为了处理循环引用的难题\n",
    "# 引用计数算法：\n",
    "#              当有1个变量保存了对象的引用时，此对象的引用计数就会加1\n",
    "#              当使用del删除变量指向的对象时，如果对象引用计数不为1，比如3，那么此时只会让这个引用计数减1，即变成2，当再次调用del时，变为1，\n",
    "#              如果再调用1次del，此时会真的把对象进行删除\n",
    "import time\n",
    "class Animal(object):\n",
    "    def __init__(self, name):\n",
    "        print(\"__init__方法被调用\")\n",
    "        self.__name = name\n",
    "    def __del__(self):\n",
    "        print(\"__del__方法被调用\")\n",
    "        print(\"%s对象马上被干掉了。。。\" % self.__name)\n",
    "\n",
    "cat = Animal(\"波斯猫\")\n",
    "cat2 = cat\n",
    "cat3 = cat\n",
    "print(id(cat), id(cat2), id(cat3))\n",
    "print(\"---马上删除cat对象\")\n",
    "del cat\n",
    "print(\"---马上删除cat2对象\")\n",
    "del cat2\n",
    "print(\"---马上删除cat3对象\")\n",
    "del cat3\n",
    "print(\"程序2秒钟后结束\")\n",
    "time.sleep(2)"
   ]
  },
  {
   "cell_type": "code",
   "execution_count": 87,
   "metadata": {},
   "outputs": [
    {
     "name": "stdout",
     "output_type": "stream",
     "text": [
      "1\n"
     ]
    },
    {
     "ename": "ValueError",
     "evalue": "invalid literal for int() with base 10: '1.4'",
     "output_type": "error",
     "traceback": [
      "\u001b[1;31m---------------------------------------------------------------------------\u001b[0m",
      "\u001b[1;31mValueError\u001b[0m                                Traceback (most recent call last)",
      "\u001b[1;32m<ipython-input-87-0ec59b87233a>\u001b[0m in \u001b[0;36m<module>\u001b[1;34m()\u001b[0m\n\u001b[0;32m      2\u001b[0m \u001b[1;31m# int(\"1.4\")报错， int(1.4)输出1\u001b[0m\u001b[1;33m\u001b[0m\u001b[1;33m\u001b[0m\u001b[0m\n\u001b[0;32m      3\u001b[0m \u001b[0mprint\u001b[0m\u001b[1;33m(\u001b[0m\u001b[0mint\u001b[0m\u001b[1;33m(\u001b[0m\u001b[1;36m1.4\u001b[0m\u001b[1;33m)\u001b[0m\u001b[1;33m)\u001b[0m\u001b[1;33m\u001b[0m\u001b[0m\n\u001b[1;32m----> 4\u001b[1;33m \u001b[0mprint\u001b[0m\u001b[1;33m(\u001b[0m\u001b[0mint\u001b[0m\u001b[1;33m(\u001b[0m\u001b[1;34m\"1.4\"\u001b[0m\u001b[1;33m)\u001b[0m\u001b[1;33m)\u001b[0m\u001b[1;33m\u001b[0m\u001b[0m\n\u001b[0m",
      "\u001b[1;31mValueError\u001b[0m: invalid literal for int() with base 10: '1.4'"
     ]
    }
   ],
   "source": [
    "# 92. int(\"1.4\"), int(1.4)输出结果？\n",
    "# int(\"1.4\")报错， int(1.4)输出1\n",
    "print(int(1.4))\n",
    "print(int(\"1.4\"))"
   ]
  },
  {
   "cell_type": "code",
   "execution_count": 88,
   "metadata": {},
   "outputs": [],
   "source": [
    "# 93. 列举3条以上PEP8编码规范\n",
    "# 1.顶级定义之间空两行，比如函数或者类定义\n",
    "# 2. 方法定义、类定义与第一个方法之间，都应该空一行\n",
    "# 3. 三引号进行注释\n",
    "# 4. 使用Pycharm、Eclipse一般使用4个空格来缩进代码"
   ]
  },
  {
   "cell_type": "code",
   "execution_count": 89,
   "metadata": {},
   "outputs": [
    {
     "name": "stdout",
     "output_type": "stream",
     "text": [
      "https://rpic.douyucdn.cn/appCovers/2016/11/13/1213973_20161131917_small.jpg\n",
      "https://rpic.douyucdn.cn/appCovers/2016/11/13/1213973_20161131917_small.jpg\n"
     ]
    }
   ],
   "source": [
    "# 94. 正则表达式匹配第一个URL\n",
    "# findall结果无需加group(),search需要加group()提取\n",
    "s = '<img data-original=\"https://rpic.douyucdn.cn/appCovers/2016/11/13/1213973_20161131917_small.jpg\" src=\"https://rpic.douyucdn.cn/appCovers\\\n",
    "     /2016/11/13/1213973_20161113917_small.jpg\", style=\"display: inline;\">'\n",
    "res = re.findall(r\"https://.*?\\.jpg\", s)[0]\n",
    "print(res)\n",
    "res = re.search(r\"https://.*?\\.jpg\", s)\n",
    "print(res.group())"
   ]
  },
  {
   "cell_type": "code",
   "execution_count": 91,
   "metadata": {},
   "outputs": [
    {
     "name": "stdout",
     "output_type": "stream",
     "text": [
      "['你好', '世界']\n"
     ]
    }
   ],
   "source": [
    "# 95. 正则匹配中文\n",
    "title = \"你好, hello, 世界\"\n",
    "pattern = re.compile(r'[\\u4e00-\\u9fa5]+')\n",
    "result = pattern.findall(title)\n",
    "print(result)"
   ]
  },
  {
   "cell_type": "code",
   "execution_count": 92,
   "metadata": {},
   "outputs": [],
   "source": [
    "# 96. 简述乐观锁和悲观锁\n",
    "# 悲观锁，就是很悲观，每次去拿数据的时候都认为别人会修改，所以每次在拿数据的时候都会上锁，这样别人想拿这个数据就会block直到它拿到锁。传统的关系\n",
    "#       型数据库里边就用到了很多这种锁机制，比如行锁，表锁等，读锁，写锁等，都是在做操作之前先上锁\n",
    "# 乐观锁，就是很乐观，每次去拿数据的时候都认为别人不会修改，所以不会上锁，但是在更新的时候会判断一下在此期间别人有没有去更新这个数据，可以使用\n",
    "#        版本号等机制，乐观锁适用于多读的应用类型，这样可以提高吞吐量"
   ]
  },
  {
   "cell_type": "code",
   "execution_count": 93,
   "metadata": {},
   "outputs": [],
   "source": [
    "# 97. r、 r+、 rb、 rb+文件打开模式区别\n",
    "#   访问模式    说明\n",
    "#      r        以只读方式打开文件。文件的指针将会放在文件的开头。这是默认模式\n",
    "#      w        打开一个文件只用于写入。如果该文件已存在则将其覆盖。如果该文件不存在，创建新文件\n",
    "#      a        打开一个文件用于追加。如果该文件已存在，文件指针将会放在文件的结尾。也就是说，新的内容将会被写入已有内容之后。如果该文件不存在\n",
    "#               创建新文件进行写入\n",
    "#      rb       以二进制格式打开一个文件用于只读。文件指针将会放在文件的开头。这是默认模式\n",
    "#      wb       以二进制格式打开一个文件只用于写入。如果该文件已存在则将其覆盖。如果该文件不存在，创建新文件\n",
    "#      ab       以二进制格式打开一个文件用于追加。如果该文件已存在，文件指针将会放在文件的结尾。也就是说，新的内容将会被写入到已有内容之后。\n",
    "#               如果该文件不存在，创建新文件进行写入\n",
    "#      r+       打开一个文件用于读写，文件指针将会放在文件的开头\n",
    "#      w+       打开一个文件用于读写。如果该文件已存在则将其覆盖。如果该文件不存在，创建新文件\n",
    "#      a+       打开一个文件用于读写。如果该文件已存在，文件指针将会放在文件结尾文件，打开时会是追加模式。如果该文件不存在，创建新文件用于读写\n",
    "#      rb+      以二进制格式打开一个文件用于读写。文件指针将会放在文件的开头\n",
    "#      wb+      以二进制格式打开一个文件用于读写。如果该文件已存在则将其覆盖。如果该文件不存在，创建新文件\n",
    "#      ab+      以二进制格式打开一个文件用于追加。如果该文件已存在，文件指针将会放在文件的结尾。如果该文件不存在，创建新文件用于读写"
   ]
  },
  {
   "cell_type": "code",
   "execution_count": 94,
   "metadata": {},
   "outputs": [],
   "source": [
    "# 98. linux命令重定向 > 和 >>\n",
    "# linux允许将命令执行结果重定向到一个文件，将本应显示在终端上的内容输出/追加到指定文件中\n",
    "# > 表示输出，会覆盖文件原有的内容\n",
    "# >> 表示追加，会将内容追加到已有文件的末尾\n",
    "# 用法示例：\n",
    "# 将echo输出的信息保存到 1.txt 里： echo Hello python > 1.txt\n",
    "# 将tree输出的信息追加到 1.txt 文件的末尾：tree >> 1.txt"
   ]
  },
  {
   "cell_type": "code",
   "execution_count": 96,
   "metadata": {},
   "outputs": [
    {
     "name": "stdout",
     "output_type": "stream",
     "text": [
      "<html><h1>www.itcast.cn</h1></html> 是符合要求的标签\n",
      "<html><h1>www.itcast.cn</h2></html> 不符合要求\n"
     ]
    }
   ],
   "source": [
    "# 99. 正则表达式匹配出<html><h1>www.itcast.cn</h1></html>\n",
    "labels = [\"<html><h1>www.itcast.cn</h1></html>\", \"<html><h1>www.itcast.cn</h2></html>\"]\n",
    "for label in labels:\n",
    "    ret = re.match(r\"<(\\w*)><(\\w*)>.*?</\\2></\\1>\", label)\n",
    "    if ret:\n",
    "        print(\"%s 是符合要求的标签\" % ret.group())\n",
    "    else:\n",
    "        print(\"%s 不符合要求\" % label)"
   ]
  },
  {
   "cell_type": "code",
   "execution_count": 97,
   "metadata": {},
   "outputs": [
    {
     "name": "stdout",
     "output_type": "stream",
     "text": [
      "1\n",
      "1\n",
      "[1, 2]\n",
      "[1, 2, 1, 2]\n"
     ]
    }
   ],
   "source": [
    "# 100.Python传参数是传值还是传址？\n",
    "# Python中函数参数是引用传递(注意不是值传递).对于不可变类型(数值型、字符串、元组),因变量不能修改，所以运算不会影响到变量自身；而对于可变类型\n",
    "# (列表、字典)来说，函数体运算可能会更改传入的参数变量\n",
    "def selfAdd(a):\n",
    "    a += a\n",
    "    \n",
    "a_int = 1\n",
    "print(a_int)\n",
    "selfAdd(a_int)\n",
    "print(a_int)\n",
    "\n",
    "a_list = [1, 2]\n",
    "print(a_list)\n",
    "selfAdd(a_list)\n",
    "print(a_list)"
   ]
  },
  {
   "cell_type": "code",
   "execution_count": 98,
   "metadata": {},
   "outputs": [
    {
     "name": "stdout",
     "output_type": "stream",
     "text": [
      "交集 [3, 4]\n",
      "交集 [3, 4]\n",
      "并集 [1, 2, 3, 4, 5, 6]\n",
      "差集 [5, 6]\n",
      "差集 [1, 2]\n"
     ]
    }
   ],
   "source": [
    "# 101. 求两个列表的交集、差集、并集\n",
    "a = [1, 2, 3, 4]\n",
    "b = [4, 3, 5, 6]\n",
    "jj1 = [i for i in a if i in b]\n",
    "jj2 = list(set(a).intersection(set(b)))\n",
    "\n",
    "bj1 = list(set(a).union(set(b)))\n",
    "\n",
    "cj1 = list(set(b).difference(set(a)))\n",
    "cj2 = list(set(a).difference(set(b)))\n",
    "print(\"交集\", jj1)\n",
    "print(\"交集\", jj2)\n",
    "\n",
    "print(\"并集\", bj1)\n",
    "\n",
    "print(\"差集\", cj1)\n",
    "print(\"差集\", cj2)"
   ]
  },
  {
   "cell_type": "markdown",
   "metadata": {},
   "source": [
    " 102.生成0-100的随机数  \n",
    " random.random()生成0-1之间的随机小数，所以乘以100"
   ]
  },
  {
   "cell_type": "code",
   "execution_count": 100,
   "metadata": {},
   "outputs": [
    {
     "name": "stdout",
     "output_type": "stream",
     "text": [
      "47.99931759769835\n",
      "28\n",
      "97\n"
     ]
    }
   ],
   "source": [
    "import random\n",
    "res1 = 100 * random.random()  # 随机小数\n",
    "res2 = random.choice(range(0, 101))  # 随机整数\n",
    "res3 = random.randint(1, 100)  # 随机整数\n",
    "print(res1)\n",
    "print(res2)\n",
    "print(res3)"
   ]
  },
  {
   "cell_type": "markdown",
   "metadata": {},
   "source": [
    "103.lambda匿名函数的好处  \n",
    "精简代码，lambda省去了定义函数，map省去了写for循环过程"
   ]
  },
  {
   "cell_type": "code",
   "execution_count": 103,
   "metadata": {},
   "outputs": [
    {
     "name": "stdout",
     "output_type": "stream",
     "text": [
      "['苏州', '中国', '哈哈', '填充值', '填充值', '日本', '填充值', '填充值', '德国']\n"
     ]
    }
   ],
   "source": [
    "a = [\"苏州\", \"中国\", \"哈哈\", \"\", \"\", \"日本\", \"\", \"\", \"德国\"]\n",
    "res = list(map(lambda x : \"填充值\" if x == \"\" else x, a))\n",
    "print(res)"
   ]
  },
  {
   "cell_type": "markdown",
   "metadata": {},
   "source": [
    "104.常见的网络传输协议\n",
    "\n",
    "UDP、TCP、FTP、HTTP、SMTP等"
   ]
  },
  {
   "cell_type": "markdown",
   "metadata": {},
   "source": [
    "105.单引号、双引号、三引号的用法  \n",
    "    1. 单引号和双引号没有什么区别，不过单引号不用按shift，打字稍微快一点。表示字符串的时候，单引号里面可以用双引号，而不用转义字符，反之亦然。\n",
    "        'She said:\"Yes.\" ' or \"She said:'Yes.'\"  \n",
    "    2. 但是如果直接用单引号扩住单引号，则需要转义，像这样： 'She said:'Yes.''\n",
    "    3. 三引号可以直接书写多行，通常用于大段，大篇幅的字符串\n",
    "       \"\"\"\n",
    "       hello\n",
    "       world\n",
    "       \"\"\""
   ]
  },
  {
   "cell_type": "markdown",
   "metadata": {},
   "source": [
    "106. Http请求中get和post区别   \n",
    "    1.GET请求是通过URL直接请求数据，数据信息可以在URL中直接看到，比如浏览器访问；而POST请求是放在请求头中的，我们无法直接看到的；  \n",
    "    2.GET提交有数据大小的限制，一般是不超过1024个字节，而这种说法也不完全准确，HTTP协议并没有设定URL字节长度的上限，而是浏览器做了些处理，  \n",
    "    所以长度依据浏览器的不同有所不同；POST请求在HTTP协议中也没有做说明，一般来说是没有设置限制的，但是实际上浏览器也有默认值。总体来说，  \n",
    "    少量的数据使用POST  \n",
    "    3.GET请求因为数据参数是暴露在URL中的，所以安全性比较低，比如密码是不能暴露的，就不能使用GET请求；POST请求中,请求参数信息是放在请求头  \n",
    "    的, 所以安全性较高，可以使用。在实际中，涉及到登陆操作的时候，尽量使用HTTPS请求，安全性更好。"
   ]
  },
  {
   "cell_type": "markdown",
   "metadata": {},
   "source": [
    "107.Python中读取Excel文件的方法    \n",
    "    &ensp;&ensp;&ensp;&ensp;应用数据分析库pandas    \n",
    "    &ensp;&ensp;&ensp;&ensp;import pandas as pd  \n",
    "    &ensp;&ensp;&ensp;&ensp;df = pd.read_excel(\"1.xlsx\")  \n",
    "    &ensp;&ensp;&ensp;&ensp;print(df)"
   ]
  },
  {
   "cell_type": "markdown",
   "metadata": {},
   "source": [
    "108.Python正则中的search和match"
   ]
  },
  {
   "cell_type": "code",
   "execution_count": 104,
   "metadata": {},
   "outputs": [
    {
     "name": "stdout",
     "output_type": "stream",
     "text": [
      "search结果 18\n",
      "findall结果 ['18', '10000']\n",
      "match结果 小明\n",
      "试错，不加group为none，匹配不到 None\n"
     ]
    },
    {
     "ename": "AttributeError",
     "evalue": "'NoneType' object has no attribute 'group'",
     "output_type": "error",
     "traceback": [
      "\u001b[1;31m---------------------------------------------------------------------------\u001b[0m",
      "\u001b[1;31mAttributeError\u001b[0m                            Traceback (most recent call last)",
      "\u001b[1;32m<ipython-input-104-18ae6a45e113>\u001b[0m in \u001b[0;36m<module>\u001b[1;34m()\u001b[0m\n\u001b[0;32m     13\u001b[0m \u001b[0mprint\u001b[0m\u001b[1;33m(\u001b[0m\u001b[1;34m\"试错，不加group为none，匹配不到\"\u001b[0m\u001b[1;33m,\u001b[0m \u001b[0mres\u001b[0m\u001b[1;33m)\u001b[0m\u001b[1;33m\u001b[0m\u001b[0m\n\u001b[0;32m     14\u001b[0m \u001b[1;33m\u001b[0m\u001b[0m\n\u001b[1;32m---> 15\u001b[1;33m \u001b[0mres\u001b[0m \u001b[1;33m=\u001b[0m \u001b[0mre\u001b[0m\u001b[1;33m.\u001b[0m\u001b[0mmatch\u001b[0m\u001b[1;33m(\u001b[0m\u001b[1;34m\"工资\"\u001b[0m\u001b[1;33m,\u001b[0m \u001b[0ms\u001b[0m\u001b[1;33m)\u001b[0m\u001b[1;33m.\u001b[0m\u001b[0mgroup\u001b[0m\u001b[1;33m(\u001b[0m\u001b[1;33m)\u001b[0m   \u001b[1;31m# 工资不是字符串开头，匹配不到，报错\u001b[0m\u001b[1;33m\u001b[0m\u001b[0m\n\u001b[0m\u001b[0;32m     16\u001b[0m \u001b[0mprint\u001b[0m\u001b[1;33m(\u001b[0m\u001b[1;34m\"match结果\"\u001b[0m\u001b[1;33m,\u001b[0m \u001b[0mres\u001b[0m\u001b[1;33m)\u001b[0m\u001b[1;33m\u001b[0m\u001b[0m\n",
      "\u001b[1;31mAttributeError\u001b[0m: 'NoneType' object has no attribute 'group'"
     ]
    }
   ],
   "source": [
    "import re\n",
    "s = \"小明年龄18岁 工资10000\"\n",
    "res = re.search(r\"\\d+\", s).group()  # search匹配到第一个匹配到的数据\n",
    "print(\"search结果\", res)\n",
    "\n",
    "res = re.findall(r\"\\d+\", s)  # 满足正则，都匹配，不用加group\n",
    "print(\"findall结果\", res)\n",
    "\n",
    "res = re.match(\"小明\", s).group() # 匹配以\"小明\"开头的字符串，并匹配出小明\n",
    "print(\"match结果\", res)\n",
    "\n",
    "res = re.match(r\"\\d+\", s) # 不加group是不对的\n",
    "print(\"试错，不加group为none，匹配不到\", res)\n",
    "\n",
    "res = re.match(\"工资\", s).group()   # 工资不是字符串开头，匹配不到，报错\n",
    "print(\"match结果\", res)  "
   ]
  }
 ],
 "metadata": {
  "kernelspec": {
   "display_name": "Python 3",
   "language": "python",
   "name": "python3"
  },
  "language_info": {
   "codemirror_mode": {
    "name": "ipython",
    "version": 3
   },
   "file_extension": ".py",
   "mimetype": "text/x-python",
   "name": "python",
   "nbconvert_exporter": "python",
   "pygments_lexer": "ipython3",
   "version": "3.6.5"
  }
 },
 "nbformat": 4,
 "nbformat_minor": 2
}
