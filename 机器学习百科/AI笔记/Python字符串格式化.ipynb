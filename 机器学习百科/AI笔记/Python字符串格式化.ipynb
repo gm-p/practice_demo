{
 "cells": [
  {
   "cell_type": "code",
   "execution_count": null,
   "metadata": {},
   "outputs": [],
   "source": [
    "# 通过{}和:来代替传统的%方式\n",
    "# 1.使用位置参数\n",
    "#    位置参数不受顺序约束，且可以为{},只要format里有相对应的参数值即可，参数索引从0开始，传入位置参数列表可用*"
   ]
  },
  {
   "cell_type": "code",
   "execution_count": 44,
   "metadata": {},
   "outputs": [
    {
     "name": "stdout",
     "output_type": "stream",
     "text": [
      "my nmae is hoho, age 18\n",
      "my name is hoho, age10\n",
      "my name is hoho, age10 hoho\n",
      "my name is hoho, age 18\n"
     ]
    }
   ],
   "source": [
    "li = ['hoho', 18]\n",
    "print('my nmae is {}, age {}'.format('hoho', 18))\n",
    "print('my name is {1}, age{0}'.format(10, 'hoho'))\n",
    "print('my name is {1}, age{0} {1}'.format(10, 'hoho'))\n",
    "print('my name is {}, age {}'.format(*li))"
   ]
  },
  {
   "cell_type": "code",
   "execution_count": 45,
   "metadata": {},
   "outputs": [],
   "source": [
    "# 2.使用关键字参数\n",
    "# 关键字参数要对得上，可用字典当关键字参数传入，字典前加**即可"
   ]
  },
  {
   "cell_type": "code",
   "execution_count": 30,
   "metadata": {},
   "outputs": [
    {
     "name": "stdout",
     "output_type": "stream",
     "text": [
      "my name is hoho, age is 19\n",
      "my name is hoho, age is 18\n"
     ]
    }
   ],
   "source": [
    "hash = {'name':'hoho', 'age':18}\n",
    "print('my name is {name}, age is {age}'.format(name='hoho', age=19))\n",
    "print('my name is {name}, age is {age}'.format(**hash))"
   ]
  },
  {
   "cell_type": "code",
   "execution_count": null,
   "metadata": {},
   "outputs": [],
   "source": [
    "# 3.填充与格式化\n",
    "# :[填充字符][对齐方式<^>][宽度]"
   ]
  },
  {
   "cell_type": "code",
   "execution_count": 31,
   "metadata": {},
   "outputs": [
    {
     "name": "stdout",
     "output_type": "stream",
     "text": [
      "********10\n",
      "10********\n",
      "****10****\n"
     ]
    }
   ],
   "source": [
    "print('{0:*>10}'.format(10))  ## 右对齐\n",
    "print('{0:*<10}'.format(10))  ## 左对齐\n",
    "print('{0:*^10}'.format(10))  ## 居中"
   ]
  },
  {
   "cell_type": "code",
   "execution_count": null,
   "metadata": {},
   "outputs": [],
   "source": [
    "# 4.精度与进制"
   ]
  },
  {
   "cell_type": "code",
   "execution_count": 32,
   "metadata": {},
   "outputs": [
    {
     "name": "stdout",
     "output_type": "stream",
     "text": [
      "0.33\n",
      "1010\n",
      "12\n",
      "a\n",
      "12,349,132,698\n"
     ]
    }
   ],
   "source": [
    "print('{0:.2f}'.format(1/3))\n",
    "print('{:b}'.format(10))   # 二进制\n",
    "print('{:o}'.format(10))   # 八进制\n",
    "print('{:x}'.format(10))   # 十六进制\n",
    "print('{:,}'.format(12349132698))  # 千分位格式化"
   ]
  },
  {
   "cell_type": "code",
   "execution_count": null,
   "metadata": {},
   "outputs": [],
   "source": [
    "# 5.使用索引"
   ]
  },
  {
   "cell_type": "code",
   "execution_count": 35,
   "metadata": {},
   "outputs": [
    {
     "name": "stdout",
     "output_type": "stream",
     "text": [
      "['hoho', 18]\n",
      "name is hoho age is 18\n"
     ]
    }
   ],
   "source": [
    "print(li)\n",
    "print('name is {0[0]} age is {0[1]}'.format(li))"
   ]
  },
  {
   "cell_type": "markdown",
   "metadata": {},
   "source": []
  }
 ],
 "metadata": {
  "kernelspec": {
   "display_name": "Python 3",
   "language": "python",
   "name": "python3"
  },
  "language_info": {
   "codemirror_mode": {
    "name": "ipython",
    "version": 3
   },
   "file_extension": ".py",
   "mimetype": "text/x-python",
   "name": "python",
   "nbconvert_exporter": "python",
   "pygments_lexer": "ipython3",
   "version": "3.6.5"
  }
 },
 "nbformat": 4,
 "nbformat_minor": 2
}
